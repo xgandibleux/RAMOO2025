{
 "cells": [
  {
   "cell_type": "markdown",
   "id": "0738c657-1f96-48f2-a1d1-b445b4e341c7",
   "metadata": {},
   "source": [
    "# RAMOO 2025\n",
    "## TU Munich @ Straubing"
   ]
  },
  {
   "cell_type": "markdown",
   "id": "70e76c43-2ecd-4c05-a99e-decad7ed6425",
   "metadata": {},
   "source": [
    "\\begin{aligned}\n",
    "\\text{maximize} \\quad & f(x) = \\big[ f_1(x),...,f_d(x) \\big] \\\\\n",
    "\\text{subject to} \\quad & x \\in X\n",
    "\\end{aligned}"
   ]
  },
  {
   "cell_type": "markdown",
   "id": "1e801f8e-f9e5-4211-8670-d81bd152bf0d",
   "metadata": {},
   "source": [
    "----"
   ]
  },
  {
   "cell_type": "markdown",
   "id": "e8e67e1f",
   "metadata": {},
   "source": [
    "## An instance of bi-objective 01 unidimensional knapsack "
   ]
  },
  {
   "cell_type": "code",
   "execution_count": null,
   "id": "ea768cc3-1cdc-471f-b1f5-ad6399bb0a23",
   "metadata": {},
   "outputs": [],
   "source": [
    "\n",
    "using Random\n",
    "\n",
    "function generate_MO01UKP(n = 10, d = 2, max_ci = 100, max_wi = 30)\n",
    "    Random.seed!(123)\n",
    "    \n",
    "    p = rand(1:max_ci,d,n)      # c_i \\in [1,max_ci]   # profits\n",
    "    w = rand(1:max_wi,n)        # w_i \\in [1,max_wi]   # weight\n",
    "    c = round(Int64, sum(w)/2)                         # capacity\n",
    "                \n",
    "    return p, w, c\n",
    "end\n"
   ]
  },
  {
   "cell_type": "code",
   "execution_count": null,
   "id": "345cf335-cb45-4222-a352-cb62a2232af5",
   "metadata": {},
   "outputs": [],
   "source": [
    "\n",
    "p,w,c = generate_MO01UKP(10,2)\n",
    "d,n = size(p) \n"
   ]
  },
  {
   "cell_type": "markdown",
   "id": "4d96076d-d509-4811-b374-f048f484d056",
   "metadata": {},
   "source": [
    "-----"
   ]
  },
  {
   "cell_type": "markdown",
   "id": "3c699c2b-fc62-4c1e-97a0-0994d6d58dde",
   "metadata": {},
   "source": [
    "## Basics with `JuMP` and `MultiObjectiveAlgorithms`"
   ]
  },
  {
   "cell_type": "markdown",
   "id": "81deb92a-9c70-4d8a-930c-62becd424cd0",
   "metadata": {},
   "source": [
    "#### Lex-optimal with `MultiObjectiveAlgorithms`"
   ]
  },
  {
   "cell_type": "code",
   "execution_count": null,
   "id": "b2e3bd36-4814-4664-861e-a58d52804db1",
   "metadata": {},
   "outputs": [],
   "source": [
    "\n",
    "using JuMP, GLPK\n",
    "import MultiObjectiveAlgorithms as MOA\n",
    "\n",
    "model = Model()\n",
    "@variable(model, x[1:n], Bin)\n",
    "@expression(model, z[k=1:d], sum(p[k,j] * x[j] for j in 1:n))\n",
    "@objective(model, Max, [z[k] for k=1:d])\n",
    "@constraint(model, sum(w[i] * x[i] for i in 1:n) ≤ c)\n",
    "\n",
    "set_optimizer(model,()->MOA.Optimizer(GLPK.Optimizer))\n",
    "set_attribute(model, MOA.Algorithm(), MOA.Lexicographic())\n",
    "optimize!(model)\n",
    "\n",
    "z1_opt = objective_value(model; result=2)\n",
    "z2_opt = objective_value(model; result=1)\n",
    "z_ideal = objective_bound(model)\n",
    "\n",
    "println(\"zᴵ     = \",z_ideal,\"\\n\")\n",
    "println(\"z¹_lex = \", z1_opt, \"\\nz²_lex = \", z2_opt)  \n"
   ]
  },
  {
   "cell_type": "markdown",
   "id": "abc2b0e5-3df8-4590-ab46-26ab5e26dd79",
   "metadata": {},
   "source": [
    "#### $\\epsilon$-constraint with `MultiObjectiveAlgorithms`"
   ]
  },
  {
   "cell_type": "code",
   "execution_count": null,
   "id": "5fd7b825-0912-4ee7-a588-f03f983c9538",
   "metadata": {},
   "outputs": [],
   "source": [
    "\n",
    "set_attribute(model, MOA.Algorithm(), MOA.EpsilonConstraint())\n",
    "optimize!(model)\n",
    "\n",
    "for i in 1:result_count(model)\n",
    "    z_opt = objective_value(model; result=i)\n",
    "    println(\"z_nd = \", z_opt)\n",
    "end\n"
   ]
  },
  {
   "cell_type": "markdown",
   "id": "f04991e0-d6a9-4128-9182-dec27f7947a3",
   "metadata": {},
   "source": [
    "-----"
   ]
  },
  {
   "cell_type": "markdown",
   "id": "471273c9",
   "metadata": {},
   "source": [
    "# Augmented Weighted Tchebycheff"
   ]
  },
  {
   "cell_type": "markdown",
   "id": "eb5617bf",
   "metadata": {},
   "source": [
    "    Compute one nondominated point by application of the Tchebycheff theory.\n",
    "    Application to the bi-objective 01 unidimensionnal knapsack problem. \n",
    "        \n",
    "    In  Steuer, R.E., Choo, EU. An interactive weighted Tchebycheff procedure \n",
    "        for multiple objective programming. Mathematical Programming 26, 326–344 (1983).   \n",
    "        \n"
   ]
  },
  {
   "cell_type": "markdown",
   "id": "3ff3f15e-df2a-47aa-80b2-a29b48b70f47",
   "metadata": {},
   "source": [
    "$\\ $ The scalarizing function $s(X, \\lambda, r^{*}, \\rho)$:\n",
    "    \n",
    "\\begin{aligned}\n",
    "\\text{minimize} \\quad & \\bigg[ \\max_{k=1,\\ldots,d} \\big\\{ \\lambda_k \\big( r_k^{*} - f_k(x) \\big\\} \n",
    "+ \\rho \\sum_{k=1}^d \\big( r_k^{*} - f_k(x) \\big) \\bigg]\\\\\n",
    "\\text{subject to} \\quad & x \\in X\n",
    "\\end{aligned}"
   ]
  },
  {
   "cell_type": "markdown",
   "id": "689e083a",
   "metadata": {},
   "source": [
    "#### Modeling, solving, querying and formatting the results"
   ]
  },
  {
   "cell_type": "code",
   "execution_count": null,
   "id": "b2aaef5c",
   "metadata": {},
   "outputs": [],
   "source": [
    "\n",
    "using JuMP, GLPK\n"
   ]
  },
  {
   "cell_type": "code",
   "execution_count": null,
   "id": "718308cb",
   "metadata": {},
   "outputs": [],
   "source": [
    "\n",
    "function  SolveAugmentedWeightedTchebycheff(  \n",
    "            solver::DataType, \n",
    "            p::Matrix{Int64},  w::Vector{Int64},  c::Int64,  \n",
    "            λ::Vector{Float64}, rp::Vector{Int64}, ρ::Float64 )\n",
    "           \n",
    "    d,n = size(p)\n",
    "    model = Model(solver)  \n",
    "\n",
    "    # settings related to the bi-01UKP model    \n",
    "    @variable(model, x[1:n], Bin)                              \n",
    "    @constraint(model, sum(w[i] * x[i] for i in 1:n) ≤ c)        \n",
    "    @expression(model, z[k=1:d], sum(p[k,j] * x[j] for j in 1:n))   \n",
    "\n",
    "    # settings related to the Tchebycheff model    \n",
    "    @variable(model, α ≥ 0)        \n",
    "    @constraint(model, con[k=1:d], α ≥  λ[k] * (rp[k] -  z[k]))\n",
    "    @objective(model, Min, α + ρ * sum((rp[k] -  z[k]) for k=1:d))\n",
    "        \n",
    "    # optimize the scalarizing function\n",
    "    set_silent(model)\n",
    "    solve_time_sec = 0.0\n",
    "    optimize!(model)\n",
    "    @assert is_solved_and_feasible(model) \"Error: optimal solution not found\"\n",
    "    solve_time_sec += round( solve_time(model) , digits=3)\n",
    "\n",
    "    # querying and formatting the results    \n",
    "    f_Opt = [ round(Int, sum(p[k,j] * value(x[j]) for j in 1:n) ) for k in 1:d ]\n",
    "    x_Opt = [ round(Int, value(x[i])) for i in 1:n ]       \n",
    "\n",
    "    return f_Opt, x_Opt , solve_time_sec\n",
    "end\n"
   ]
  },
  {
   "cell_type": "markdown",
   "id": "9441e5e0-bd83-467e-8763-ea121c0dcc7b",
   "metadata": {},
   "source": [
    "#### Example of computing one point $y \\in Y_N$ with $s(X, \\lambda, r^{*}, \\rho)$"
   ]
  },
  {
   "cell_type": "code",
   "execution_count": null,
   "id": "0cacdd16",
   "metadata": {},
   "outputs": [],
   "source": [
    "\n",
    "p,w,c = generate_MO01UKP()\n",
    "\n",
    "λ  = [0.25,0.75]\n",
    "rp = Int.(z_ideal) .+ 1\n",
    "ρ  = 0.001\n",
    "\n",
    "solver = GLPK.Optimizer\n",
    "\n",
    "z,x,t = SolveAugmentedWeightedTchebycheff(solver, p,w,c, λ,rp,ρ)\n",
    "\n",
    "println(\"zOpt = \", z)\n",
    "println(\"XOpt = \", x)\n",
    "println(\"time = $t (s)\") \n"
   ]
  },
  {
   "cell_type": "markdown",
   "id": "48a35d39-5f8a-4c0e-8749-3cd81905bcf2",
   "metadata": {},
   "source": [
    "#### Example of a naive and not certified approach for computing the set $Y_N$ with $s(X, \\lambda, r^{*}, \\rho)$"
   ]
  },
  {
   "cell_type": "code",
   "execution_count": null,
   "id": "1a5a8928",
   "metadata": {},
   "outputs": [],
   "source": [
    "\n",
    "using Printf\n",
    "\n",
    "zPrec = [NaN,NaN]\n",
    "for step in 0.01:0.01:0.99\n",
    "    λ =[step,1.0-step] \n",
    "    z,x,t = SolveAugmentedWeightedTchebycheff(solver, p,w,c, λ,rp,ρ)\n",
    "    if z != zPrec \n",
    "        zPrec = z\n",
    "        @printf(\"  λ=(%6.3f %6.3f)   zND= (%3d %3d) \\n\",λ[1],λ[2], z[1],z[2])\n",
    "    end\n",
    "end\n"
   ]
  },
  {
   "cell_type": "markdown",
   "id": "e3d67843-bc61-4554-bd23-3c4682ff4105",
   "metadata": {},
   "source": [
    "-----"
   ]
  },
  {
   "cell_type": "markdown",
   "id": "da9c590d-13a2-45a5-8639-692d0b1bec2e",
   "metadata": {},
   "source": [
    "## Algorithm of *Dachert-Gorski-Klamroth* (2012) for computing the set $Y_N$ "
   ]
  },
  {
   "cell_type": "markdown",
   "id": "28ebe8ef-9d0c-4ea0-9e10-2ff4e2e5d1fe",
   "metadata": {},
   "source": [
    "    In  Kerstin Dächert, Jochen Gorski, Kathrin Klamroth. An augmented weighted \n",
    "        Tchebycheff method with adaptively chosen parameters for discrete \n",
    "        bicriteria optimization problems. Computers & Operations Research,\n",
    "        Volume 39, Issue 12, Pages 2929-2943, 2012.\n",
    "        "
   ]
  },
  {
   "cell_type": "markdown",
   "id": "7dfe65a4-c31a-4ed7-8099-17fd53e0c61e",
   "metadata": {},
   "source": [
    "<img src=\"img/AlgoKerstin.png\" alt=\"Description\" width=\"600\" style=\"margin-left:60px;\" />"
   ]
  },
  {
   "cell_type": "code",
   "execution_count": null,
   "id": "5f05c4f7-c266-4b8b-8d7d-72956198a83e",
   "metadata": {},
   "outputs": [],
   "source": [
    "\"\"\"\n",
    "    Sequential algorithm for generating the nondominated set based on \n",
    "    an adaptive_augmented_tchebycheff. \n",
    "    Application to the bi-objective 01 unidimensionnal knapsack problem. \n",
    "\"\"\"\n",
    "function DachertGorskiKlamroth_knapsack(  \n",
    "            solver::DataType, \n",
    "            p::Matrix{Int64},  w::Vector{Int64},  c::Int64\n",
    "        )\n",
    "\n",
    "    # Create two empty sorted lists ND and Temp\n",
    "    ND   = (Vector{Int64})[]\n",
    "    Temp = (Vector{Int64})[]\n",
    "\n",
    "    # Compute lexicographic optimal solutions z1 and z2 wrt. f1 and f2, respectively, and zᴵ, the ideal point\n",
    "    z1, z2, zᴵ = lex_optimize_knapsack(solver, p,w,c)\n",
    "    println( \"  z1: \", z1, \"   z2: \", z2, \"   zᴵ: \", zᴵ, \"\\n\")\n",
    "\n",
    "    if z1 == z2\n",
    "        # the set of nondominated points is composed of a single point \n",
    "        push!(ND, z1)\n",
    "        return ND\n",
    "    else\n",
    "        # Let's play...\n",
    "        push!(Temp, z1); push!(Temp, z2); #push!(ND, z1)\n",
    "\n",
    "        while length(Temp) ≥ 2\n",
    "            # Compute parameters and optionally the new reference point wrt. the first two solutions z1,z2 in Temp\n",
    "            z1 = Temp[1]; z2 = Temp[2]\n",
    "\n",
    "            # Solve the resulting subproblem and find solution z\n",
    "            z  = solve_subproblem_knapsack(solver, p,w,c, z1,z2)\n",
    "\n",
    "            if z == z1 || z == z2\n",
    "                # Remove first element from Temp and insert it as last element to ND\n",
    "                popfirst!(Temp);  push!(ND, z1)\n",
    "            else\n",
    "                # Insert z as new second element between z1 and z2 to Temp\n",
    "                insert!(Temp, 2, z)\n",
    "            end\n",
    "        end\n",
    "\n",
    "        # Add final element of Temp as last element to ND\n",
    "        push!(ND, Temp[1])\n",
    "\n",
    "        return ND\n",
    "    end\n",
    "end"
   ]
  },
  {
   "cell_type": "code",
   "execution_count": null,
   "id": "15ea1a92-ef46-48f5-b909-b470e751b07d",
   "metadata": {},
   "outputs": [],
   "source": [
    "\"\"\"\n",
    "    Compute the lexicographic optimal solution for the bi-objective 01UKP\n",
    "\"\"\"\n",
    "function lex_optimize_knapsack( \n",
    "            solver::DataType,             \n",
    "            p::Matrix{Int64},  w::Vector{Int64},  c::Int64 )\n",
    "    \n",
    "    d,n = size(p)\n",
    "    model = Model()\n",
    "    @variable(model, x[1:n], Bin)\n",
    "    @expression(model, z[k=1:d], sum(p[k,j] * x[j] for j in 1:n))\n",
    "    @objective(model, Max, [z[k] for k=1:d])\n",
    "    @constraint(model, sum(w[i] * x[i] for i in 1:n) ≤ c)\n",
    "\n",
    "    set_optimizer(model,()->MOA.Optimizer(solver))\n",
    "    set_attribute(model, MOA.Algorithm(), MOA.Lexicographic())\n",
    "    optimize!(model)\n",
    "\n",
    "    z1_opt = round.(Int, objective_value(model; result=2))\n",
    "    z2_opt = round.(Int, objective_value(model; result=1))\n",
    "    z_ideal = round.(Int, objective_bound(model))\n",
    "    \n",
    "    return z1_opt, z2_opt, z_ideal\n",
    "end\n"
   ]
  },
  {
   "cell_type": "code",
   "execution_count": null,
   "id": "bcd427cb-06b1-4f3f-a65e-d836e49aaf9c",
   "metadata": {},
   "outputs": [],
   "source": [
    "\"\"\"\n",
    "    Solve the Augmented Weighted Tchebycheff subproblem\n",
    "    using the Adaptative method.\n",
    "\"\"\"\n",
    "function solve_subproblem_knapsack(  \n",
    "            solver::DataType, \n",
    "            p::Matrix{Int64},  w::Vector{Int64},  c::Int64,  \n",
    "            z1::Vector{Int64}, z2::Vector{Int64} )\n",
    "\n",
    "    rp  = zeros(Int,2);    # reference point\n",
    "    λ   = zeros(2);        # weights\n",
    "\n",
    "    x = z2[1]; y = z1[2]   # ideal point\n",
    "    x = x+1;   y = y+1     # utopian point (dominates the ideal point)\n",
    "\n",
    "    rp[1] = x; rp[2] = y   # setting the reference point with the local utopian point\n",
    "\n",
    "    print(\"  Box:  z1=\", z1, \"  z2=\", z2, \"  ⇒  RP=($x, $y)   ⟶   \")\n",
    "\n",
    "    # Compute adaptive parameters\n",
    "    λ[1], λ[2], ρ = compute_adaptive_parameters(x, y)   \n",
    "\n",
    "    # Solve the augmented weighted Tchebycheff problem\n",
    "    z,x,t = SolveAugmentedWeightedTchebycheff(solver, p,w,c, λ,rp,ρ)\n",
    "\n",
    "    @printf(\"λ₁=%6.4f  λ₂=%6.4f   ρ= %8.6f   ⟶   z=(%4d,%4d) \\n\",  λ[1], λ[2], ρ, z[1], z[2])\n",
    "\n",
    "    return z\n",
    "end\n"
   ]
  },
  {
   "cell_type": "code",
   "execution_count": null,
   "id": "a16b3873-abf1-447b-87a4-b7566e8ba66f",
   "metadata": {},
   "outputs": [],
   "source": [
    "\"\"\"\n",
    "    Compute the adaptive parameters as described in Table 1 of\n",
    "    the paper Dächert et al., 2012\n",
    "\"\"\"\n",
    "function compute_adaptive_parameters( \n",
    "            x::Int64, y::Int64 ) \n",
    "    \n",
    "    if x > y && y ≥ 2\n",
    "        denom = x*y - y - 3*x + x^2\n",
    "        w1 = ( x*y - x - y ) / denom\n",
    "        w2 = ( x*(x - 2)   ) / denom\n",
    "        ρ  = x / denom\n",
    "        \n",
    "    elseif y > x && x ≥ 2\n",
    "        denom = x*y - x - 3*y + y^2\n",
    "        w1 = ( y * (y - 2) )  / denom\n",
    "        w2 = (x*y - x - y) / denom\n",
    "        ρ  = y / denom\n",
    "\n",
    "    elseif x == y && y > 2\n",
    "        w1 = 0.5\n",
    "        w2 = 0.5\n",
    "        ρ  = 1.0 / (2*(x - 2))\n",
    "    else\n",
    "        error(\"Unexpected case\")\n",
    "    end\n",
    "\n",
    "    return w1, w2, ρ\n",
    "end\n"
   ]
  },
  {
   "cell_type": "code",
   "execution_count": null,
   "id": "9d4fd50a-7ee3-4d79-8f2c-eb2aec070010",
   "metadata": {},
   "outputs": [],
   "source": [
    "\n",
    "solver = GLPK.Optimizer\n",
    "p,w,c = generate_MO01UKP()\n",
    "\n",
    "YN = DachertGorskiKlamroth_knapsack(solver, p,w,c)\n",
    "\n",
    "println(\"\\n  Set of nondominated points found:\")\n",
    "println(\"    \", YN)\n"
   ]
  },
  {
   "cell_type": "code",
   "execution_count": null,
   "id": "ca2c62a5-63b2-4768-890a-517ee018c624",
   "metadata": {},
   "outputs": [],
   "source": []
  }
 ],
 "metadata": {
  "kernelspec": {
   "display_name": "Julia 1.10.5",
   "language": "julia",
   "name": "julia-1.10"
  },
  "language_info": {
   "file_extension": ".jl",
   "mimetype": "application/julia",
   "name": "julia",
   "version": "1.10.5"
  }
 },
 "nbformat": 4,
 "nbformat_minor": 5
}
