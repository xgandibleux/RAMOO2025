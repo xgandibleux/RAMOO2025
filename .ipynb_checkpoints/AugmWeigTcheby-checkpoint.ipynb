{
 "cells": [
  {
   "cell_type": "markdown",
   "id": "471273c9",
   "metadata": {},
   "source": [
    "# Augmented Weighted Tchebycheff"
   ]
  },
  {
   "cell_type": "markdown",
   "id": "eb5617bf",
   "metadata": {},
   "source": [
    "    Compute one nondominated point by application of the Tchebycheff theory.\n",
    "    Application to the bi-objective 01 unidimensionnal knapsack problem. \n",
    "        \n",
    "    In  Steuer, R.E., Choo, EU. An interactive weighted Tchebycheff procedure \n",
    "        for multiple objective programming. Mathematical Programming 26, 326–344 (1983).    "
   ]
  },
  {
   "cell_type": "markdown",
   "id": "e8e67e1f",
   "metadata": {},
   "source": [
    "## 1) An instance of 01 Unidimensional Knapsack Problem with two objectives"
   ]
  },
  {
   "cell_type": "code",
   "execution_count": null,
   "id": "1ba49484",
   "metadata": {},
   "outputs": [],
   "source": [
    "# Profits:\n",
    "\n",
    "    p = [ 13 10  3 16 12 11  1  9 19 13 ;     # profit 1\n",
    "           1 10  3 13 12 19 16 13 11  9  ]    # profit 2\n",
    "\n",
    "# Weights:\n",
    "\n",
    "    w  = [ 4, 4, 3, 5, 5, 3, 2, 3, 5, 4  ] \n",
    "\n",
    "# Capacity:\n",
    "\n",
    "    c  = 19\n",
    "\n",
    "# Dimensions:\n",
    "\n",
    "    d,n = size(p)   # number of objectives and number of variables \n"
   ]
  },
  {
   "cell_type": "markdown",
   "id": "280eb5c5",
   "metadata": {},
   "source": [
    "## 2) A set of values for parameters $\\lambda$, $r^*$, $\\rho$"
   ]
  },
  {
   "cell_type": "code",
   "execution_count": null,
   "id": "e9313b70",
   "metadata": {},
   "outputs": [],
   "source": [
    "# The weights:\n",
    "\n",
    "    λ = [ 0.25 , 0.75 ]\n",
    "\n",
    "# The reference point:\n",
    "\n",
    "    rp = [ 100 , 100 ] \n",
    "\n",
    "# The augmented value:\n",
    "\n",
    "    ρ = 0.001\n"
   ]
  },
  {
   "cell_type": "markdown",
   "id": "689e083a",
   "metadata": {},
   "source": [
    "## 3) The MILP model"
   ]
  },
  {
   "cell_type": "markdown",
   "id": "bffaf74f",
   "metadata": {},
   "source": [
    "##### Create a JuMP model using GLPK as MIP solver"
   ]
  },
  {
   "cell_type": "code",
   "execution_count": null,
   "id": "a7edde3d",
   "metadata": {},
   "outputs": [],
   "source": [
    "    using JuMP, GLPK\n",
    "    model = Model(GLPK.Optimizer)"
   ]
  },
  {
   "cell_type": "markdown",
   "id": "7665560e",
   "metadata": {},
   "source": [
    "##### Defintions related to the 2-01UKP model"
   ]
  },
  {
   "cell_type": "markdown",
   "id": "06088441",
   "metadata": {},
   "source": [
    "The $n$ binary variables"
   ]
  },
  {
   "cell_type": "code",
   "execution_count": null,
   "id": "d5018d85",
   "metadata": {},
   "outputs": [],
   "source": [
    "    @variable(model, x[1:n], Bin)"
   ]
  },
  {
   "cell_type": "markdown",
   "id": "b68a49e6",
   "metadata": {},
   "source": [
    "The constraint"
   ]
  },
  {
   "cell_type": "code",
   "execution_count": null,
   "id": "115b1115",
   "metadata": {},
   "outputs": [],
   "source": [
    "    @constraint(model, sum(w[i] * x[i] for i in 1:n) ≤ c)"
   ]
  },
  {
   "cell_type": "markdown",
   "id": "abfbd941",
   "metadata": {},
   "source": [
    "The $d$ objective functions"
   ]
  },
  {
   "cell_type": "code",
   "execution_count": null,
   "id": "c66c6421",
   "metadata": {},
   "outputs": [],
   "source": [
    "    @expression(model, z[k=1:d], sum(p[k,j] * x[j] for j in 1:n))"
   ]
  },
  {
   "cell_type": "markdown",
   "id": "9633a0f6",
   "metadata": {},
   "source": [
    "##### Definitions related to the Tchebycheff model"
   ]
  },
  {
   "cell_type": "markdown",
   "id": "959fce20",
   "metadata": {},
   "source": [
    "The variable"
   ]
  },
  {
   "cell_type": "code",
   "execution_count": null,
   "id": "c54ad20f",
   "metadata": {},
   "outputs": [],
   "source": [
    "    @variable(model, α ≥ 0) "
   ]
  },
  {
   "cell_type": "markdown",
   "id": "fb7bf0bd",
   "metadata": {},
   "source": [
    "The $d$ constraints"
   ]
  },
  {
   "cell_type": "code",
   "execution_count": null,
   "id": "3f45fd0c",
   "metadata": {},
   "outputs": [],
   "source": [
    "    @constraint(model, con[k=1:d], α ≥  λ[k] * (rp[k] -  z[k]))"
   ]
  },
  {
   "cell_type": "markdown",
   "id": "50e3107a",
   "metadata": {},
   "source": [
    "The objective to minimize"
   ]
  },
  {
   "cell_type": "code",
   "execution_count": null,
   "id": "2fb11084",
   "metadata": {},
   "outputs": [],
   "source": [
    "    @objective(model, Min, α + ρ * sum((rp[k] -  z[k]) for k=1:d))"
   ]
  },
  {
   "cell_type": "markdown",
   "id": "4712bd55",
   "metadata": {},
   "source": [
    "## 3) Optimize, query and display the results"
   ]
  },
  {
   "cell_type": "code",
   "execution_count": null,
   "id": "bdaa1971",
   "metadata": {},
   "outputs": [],
   "source": [
    "# optimize:\n",
    "\n",
    "    set_silent(model)\n",
    "    solve_time_sec = 0.0\n",
    "    optimize!(model)\n",
    "    @assert is_solved_and_feasible(model) \"Error: optimal solution not found\"\n",
    "    solve_time_sec += solve_time(model)\n"
   ]
  },
  {
   "cell_type": "code",
   "execution_count": null,
   "id": "26ac3624",
   "metadata": {},
   "outputs": [],
   "source": [
    "# query the results:\n",
    "\n",
    "    f1_Opt = sum(p[1,j] * value(x[j]) for j in 1:n)\n",
    "    f2_Opt = sum(p[2,j] * value(x[j]) for j in 1:n)\n",
    "    x_Opt  = value.(x)\n",
    "\n",
    "# display the results:\n",
    "\n",
    "    println(\"zOpt = \", [round(Int, value(f1_Opt)), round(Int, value(f2_Opt))] )\n",
    "    println(\"XOpt = \", [round(Int, x_Opt[i]) for i in 1:n])\n",
    "    println(\"time = $(round(solve_time_sec, digits=3)) (s)\")\n"
   ]
  },
  {
   "cell_type": "markdown",
   "id": "bbfdc6b6",
   "metadata": {},
   "source": [
    "-----"
   ]
  },
  {
   "cell_type": "markdown",
   "id": "abc0f53f",
   "metadata": {},
   "source": [
    "## Summary"
   ]
  },
  {
   "cell_type": "code",
   "execution_count": 2,
   "id": "b2aaef5c",
   "metadata": {},
   "outputs": [],
   "source": [
    "using JuMP, GLPK"
   ]
  },
  {
   "cell_type": "code",
   "execution_count": 12,
   "id": "718308cb",
   "metadata": {},
   "outputs": [
    {
     "data": {
      "text/plain": [
       "SolveAugmentedWeightedTchebycheff (generic function with 1 method)"
      ]
     },
     "execution_count": 12,
     "metadata": {},
     "output_type": "execute_result"
    }
   ],
   "source": [
    "function  SolveAugmentedWeightedTchebycheff(  \n",
    "            solver::DataType, \n",
    "            p::Matrix{Int64},  w::Vector{Int64},  c::Int64,  \n",
    "            λ::Vector{Float64}, rp::Vector{Int64}, ρ::Float64\n",
    "        )\n",
    "           \n",
    "    d,n = size(p)\n",
    "\n",
    "    model = Model(solver)  \n",
    "\n",
    "    @variable(model, x[1:n], Bin)                              \n",
    "    @constraint(model, sum(w[i] * x[i] for i in 1:n) ≤ c)        \n",
    "    @expression(model, z[k=1:d], sum(p[k,j] * x[j] for j in 1:n))   \n",
    "\n",
    "    @variable(model, α ≥ 0)        \n",
    "    @constraint(model, con[k=1:d], α ≥  λ[k] * (rp[k] -  z[k]))\n",
    "    @objective(model, Min, α + ρ * sum((rp[k] -  z[k]) for k=1:d))\n",
    "        \n",
    "    set_silent(model)\n",
    "    solve_time_sec = 0.0\n",
    "    optimize!(model)\n",
    "    @assert is_solved_and_feasible(model) \"Error: optimal solution not found\"\n",
    "    solve_time_sec += round( solve_time(model) , digits=3)\n",
    "        \n",
    "    f1_Opt = round(Int, sum(p[1,j] * value(x[j]) for j in 1:n) )\n",
    "    f2_Opt = round(Int, sum(p[2,j] * value(x[j]) for j in 1:n) )\n",
    "    x_Opt  = [round(Int, value(x[i])) for i in 1:n]       \n",
    "\n",
    "    return [f1_Opt, f2_Opt], x_Opt , solve_time_sec\n",
    "end"
   ]
  },
  {
   "cell_type": "code",
   "execution_count": 4,
   "id": "f10fd1d2",
   "metadata": {},
   "outputs": [
    {
     "data": {
      "text/plain": [
       "generate_MO01UKP (generic function with 5 methods)"
      ]
     },
     "execution_count": 4,
     "metadata": {},
     "output_type": "execute_result"
    }
   ],
   "source": [
    "function generate_MO01UKP(n = 10, o = 2, max_ci = 100, max_wi = 30)\n",
    "\n",
    "    p = rand(1:max_ci,o,n)      # c_i \\in [1,max_ci]   # profits\n",
    "    w = rand(1:max_wi,n)        # w_i \\in [1,max_wi]   # weight\n",
    "    c = round(Int64, sum(w)/2)                         # capacity\n",
    "                \n",
    "    return p, w, c\n",
    "end"
   ]
  },
  {
   "cell_type": "code",
   "execution_count": 13,
   "id": "0cacdd16",
   "metadata": {},
   "outputs": [
    {
     "name": "stdout",
     "output_type": "stream",
     "text": [
      "zOpt = [325, 434]\n",
      "XOpt = [1, 1, 1, 0, 1, 1, 0, 1, 0, 1]\n",
      "time = 0.0 (s)\n"
     ]
    }
   ],
   "source": [
    "solver = GLPK.Optimizer\n",
    "\n",
    "p,w,c = generate_MO01UKP()\n",
    "\n",
    "λ  = [0.25,0.75]\n",
    "rp = [80,80]\n",
    "ρ  = 0.001\n",
    "\n",
    "z,x,t = SolveAugmentedWeightedTchebycheff( solver,  p, w, c,  λ, rp, ρ)\n",
    "\n",
    "println(\"zOpt = \", z)\n",
    "println(\"XOpt = \", x)\n",
    "println(\"time = $t (s)\") "
   ]
  },
  {
   "cell_type": "code",
   "execution_count": null,
   "id": "1a5a8928",
   "metadata": {},
   "outputs": [],
   "source": []
  }
 ],
 "metadata": {
  "kernelspec": {
   "display_name": "Julia 1.11.2",
   "language": "julia",
   "name": "julia-1.11"
  },
  "language_info": {
   "file_extension": ".jl",
   "mimetype": "application/julia",
   "name": "julia",
   "version": "1.11.2"
  }
 },
 "nbformat": 4,
 "nbformat_minor": 5
}
